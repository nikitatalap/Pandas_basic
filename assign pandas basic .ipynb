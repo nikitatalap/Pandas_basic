{
 "cells": [
  {
   "cell_type": "code",
   "execution_count": 1,
   "id": "df614127-5052-4281-95b0-e0638ca39480",
   "metadata": {},
   "outputs": [],
   "source": [
    "#Q1. Create a Pandas Series that contains the following data: 4, 8, 15, 16, 23, and 42. Then, print the series."
   ]
  },
  {
   "cell_type": "code",
   "execution_count": 2,
   "id": "9a1a4c0d-bf0a-4055-9729-073fec12d4f2",
   "metadata": {},
   "outputs": [],
   "source": [
    "import pandas as pd"
   ]
  },
  {
   "cell_type": "code",
   "execution_count": 5,
   "id": "6e3415df-8ad4-42aa-8a81-3065ca00691e",
   "metadata": {},
   "outputs": [],
   "source": [
    "data=[4,8,15,16,23,42]"
   ]
  },
  {
   "cell_type": "code",
   "execution_count": 6,
   "id": "44e7fb12-e7c5-4a50-8afb-634f13270394",
   "metadata": {},
   "outputs": [],
   "source": [
    "series= pd.Series(data)"
   ]
  },
  {
   "cell_type": "code",
   "execution_count": 7,
   "id": "11bac1f0-ca4a-420b-aed8-4544b2d58914",
   "metadata": {},
   "outputs": [
    {
     "name": "stdout",
     "output_type": "stream",
     "text": [
      "0     4\n",
      "1     8\n",
      "2    15\n",
      "3    16\n",
      "4    23\n",
      "5    42\n",
      "dtype: int64\n"
     ]
    }
   ],
   "source": [
    "print(series)"
   ]
  },
  {
   "cell_type": "code",
   "execution_count": 8,
   "id": "bb092dfd-162d-40e8-b084-ae45b2562202",
   "metadata": {},
   "outputs": [],
   "source": [
    "#Q2. Create a variable of list type containing 10 elements in it, and apply pandas.Series function on the variable print it."
   ]
  },
  {
   "cell_type": "code",
   "execution_count": 9,
   "id": "5739bf15-639e-432a-b40a-d1a276043959",
   "metadata": {},
   "outputs": [],
   "source": [
    "import pandas as pd"
   ]
  },
  {
   "cell_type": "code",
   "execution_count": 14,
   "id": "e4bcdb0f-4f5f-457e-baa0-d4e3572f66a8",
   "metadata": {},
   "outputs": [],
   "source": [
    "my_list=[1,2,3,4,5,6,7,8,9,10]"
   ]
  },
  {
   "cell_type": "code",
   "execution_count": 16,
   "id": "edfecc0d-4e23-4b65-b377-1c44d7886973",
   "metadata": {},
   "outputs": [],
   "source": [
    "my_series= pd.Series(my_list)"
   ]
  },
  {
   "cell_type": "code",
   "execution_count": 17,
   "id": "348efbaf-241b-4998-8c40-797fa3a34338",
   "metadata": {},
   "outputs": [
    {
     "name": "stdout",
     "output_type": "stream",
     "text": [
      "0     1\n",
      "1     2\n",
      "2     3\n",
      "3     4\n",
      "4     5\n",
      "5     6\n",
      "6     7\n",
      "7     8\n",
      "8     9\n",
      "9    10\n",
      "dtype: int64\n"
     ]
    }
   ],
   "source": [
    "print(my_series)"
   ]
  },
  {
   "cell_type": "code",
   "execution_count": 18,
   "id": "248f3576-f8af-496d-93d7-904fb3bcfdcd",
   "metadata": {},
   "outputs": [],
   "source": [
    "#Q3. Create a Pandas DataFrame that contains the following data:"
   ]
  },
  {
   "cell_type": "code",
   "execution_count": 19,
   "id": "36601531-6830-40d5-9b82-b99530dbcc03",
   "metadata": {},
   "outputs": [],
   "source": [
    "import pandas as pd"
   ]
  },
  {
   "cell_type": "code",
   "execution_count": 22,
   "id": "e2564e66-097a-4fcf-952e-dc5978ded43c",
   "metadata": {},
   "outputs": [],
   "source": [
    "data=[\n",
    "    {\"Name\":\"Alice\", \"Age\":25,\"Gender\":\"Female\"},\n",
    "    {\"Name\":\"Bob\", \"Age\":30,\"Gender\":\"Male\"},\n",
    "    {\"Name\":\"Claire\", \"Age\":27,\"Gender\":\"Female\"}\n",
    "]\n"
   ]
  },
  {
   "cell_type": "code",
   "execution_count": 23,
   "id": "1a5359cd-9361-4f16-8e23-925050d8f461",
   "metadata": {},
   "outputs": [],
   "source": [
    "df= pd.DataFrame(data)"
   ]
  },
  {
   "cell_type": "code",
   "execution_count": 24,
   "id": "a38fd10d-f68c-4ea8-9db8-2d29c817197b",
   "metadata": {},
   "outputs": [
    {
     "name": "stdout",
     "output_type": "stream",
     "text": [
      "     Name  Age  Gender\n",
      "0   Alice   25  Female\n",
      "1     Bob   30    Male\n",
      "2  Claire   27  Female\n"
     ]
    }
   ],
   "source": [
    "print(df)"
   ]
  },
  {
   "cell_type": "code",
   "execution_count": 25,
   "id": "f36c1e26-0fec-419f-96ed-04a061107c15",
   "metadata": {},
   "outputs": [],
   "source": [
    "#Q4. What is ‘DataFrame’ in pandas and how is it different from pandas.series? Explain with an example."
   ]
  },
  {
   "cell_type": "code",
   "execution_count": 26,
   "id": "e27e5c86-d5a7-4614-8987-ed496e5e6360",
   "metadata": {},
   "outputs": [
    {
     "data": {
      "text/plain": [
       "'DataFrame is a 2D structure with rows and columns, while Series is a 1D structure with an index.\\nA DataFrame can store multiple columns of data, making it suitable for tabular data, whereas a Series is designed for single sequences of data.\\nOperations on DataFrames often involve multiple columns and are suitable for data manipulation and analysis tasks, while Series is more appropriate for working with individual data sequences.'"
      ]
     },
     "execution_count": 26,
     "metadata": {},
     "output_type": "execute_result"
    }
   ],
   "source": [
    "\"\"\"DataFrame is a 2D structure with rows and columns, while Series is a 1D structure with an index.\n",
    "A DataFrame can store multiple columns of data, making it suitable for tabular data, whereas a Series is designed for single sequences of data.\n",
    "Operations on DataFrames often involve multiple columns and are suitable for data manipulation and analysis tasks, while Series is more appropriate for working with individual data sequences.\"\"\""
   ]
  },
  {
   "cell_type": "code",
   "execution_count": 27,
   "id": "19bc8208-26db-417d-84e9-4f72ad511260",
   "metadata": {},
   "outputs": [],
   "source": [
    "#DataFrame example explained in question No.3"
   ]
  },
  {
   "cell_type": "code",
   "execution_count": 28,
   "id": "e7f83021-4702-448e-9e53-b7cd5703cf66",
   "metadata": {},
   "outputs": [],
   "source": [
    "import pandas as pd"
   ]
  },
  {
   "cell_type": "code",
   "execution_count": 29,
   "id": "b76f4c90-820a-45cc-a27f-28b7b0086f07",
   "metadata": {},
   "outputs": [],
   "source": [
    "data=[25,30,25]\n",
    "index= [\"Nikita\",\"Aniket\",\"Patil\"]"
   ]
  },
  {
   "cell_type": "code",
   "execution_count": 31,
   "id": "b4411f99-a5ab-4882-af48-f55dfec8bd97",
   "metadata": {},
   "outputs": [],
   "source": [
    "series= pd.Series(data, index=index)"
   ]
  },
  {
   "cell_type": "code",
   "execution_count": 32,
   "id": "289ef483-308e-4366-ba15-0d7fa1e77a72",
   "metadata": {},
   "outputs": [
    {
     "name": "stdout",
     "output_type": "stream",
     "text": [
      "Nikita    25\n",
      "Aniket    30\n",
      "Patil     25\n",
      "dtype: int64\n"
     ]
    }
   ],
   "source": [
    "print(series)"
   ]
  },
  {
   "cell_type": "code",
   "execution_count": 33,
   "id": "03cf7fb9-dcb8-4c97-8284-5e074f932d1a",
   "metadata": {},
   "outputs": [],
   "source": [
    "#Q5. What are some common functions you can use to manipulate data in a Pandas DataFrame? Can you give an example of when you might use one of these functions?"
   ]
  },
  {
   "cell_type": "code",
   "execution_count": 1,
   "id": "9e52550e-30d8-4ded-a833-dbf964971221",
   "metadata": {},
   "outputs": [],
   "source": [
    "# following functions are used to manipulate data in pandas: 1)head() or tail() 2) info() 3) describe() 4) shape 5)value_counts() 6)groupby() 7) sort_values()\n",
    "# head() or Tail(): These functions allow you to view the first or last n rows of dataframe, which is useful for quickly inspecting data.  df.head() "
   ]
  },
  {
   "cell_type": "code",
   "execution_count": 2,
   "id": "be051de8-0015-4565-8af4-b6fff011b8e1",
   "metadata": {},
   "outputs": [],
   "source": [
    "#Q6. Which of the following is mutable in nature Series, DataFrame, Panel?\n",
    "#Series: Series is mutable. You can change the values of elements within a Series after it's been created.\n",
    "#DataFrame: DataFrame is mutable. You can modify the data within a DataFrame, add or remove columns, and change values in cells.\n",
    "#Panel: Panel was deprecated in Pandas 0.25.0 (July 2019) and is no longer a primary data structure in Pandas. It has been removed in newer versions (Pandas 1.0.0 and later). Panels were replaced by other data structures, and they were considered less essential for most data analysis tasks.\n"
   ]
  },
  {
   "cell_type": "code",
   "execution_count": 3,
   "id": "7236d673-8f0e-4d09-b2e1-f74bf046f7f2",
   "metadata": {},
   "outputs": [],
   "source": [
    "#Q7. Create a DataFrame using multiple Series. Explain with an example."
   ]
  },
  {
   "cell_type": "code",
   "execution_count": 4,
   "id": "dcd5b49c-63fc-422f-9de9-475fc7659992",
   "metadata": {},
   "outputs": [],
   "source": [
    "import pandas as pd"
   ]
  },
  {
   "cell_type": "code",
   "execution_count": null,
   "id": "bd100e6f-ff4d-4f0c-af17-1ce3e0ab6dc2",
   "metadata": {},
   "outputs": [],
   "source": [
    "names= pd.Series([\"Nikita\",\"Aniket\",\"Patil\"])\n",
    "ages= pd.Series([25,26,30"
   ]
  }
 ],
 "metadata": {
  "kernelspec": {
   "display_name": "Python 3 (ipykernel)",
   "language": "python",
   "name": "python3"
  },
  "language_info": {
   "codemirror_mode": {
    "name": "ipython",
    "version": 3
   },
   "file_extension": ".py",
   "mimetype": "text/x-python",
   "name": "python",
   "nbconvert_exporter": "python",
   "pygments_lexer": "ipython3",
   "version": "3.10.8"
  }
 },
 "nbformat": 4,
 "nbformat_minor": 5
}
